{
 "cells": [
  {
   "cell_type": "markdown",
   "id": "f3e1277a",
   "metadata": {},
   "source": [
    "# Practise"
   ]
  },
  {
   "cell_type": "markdown",
   "id": "05a3a49b",
   "metadata": {},
   "source": [
    "### Dataset for practise"
   ]
  },
  {
   "cell_type": "code",
   "execution_count": null,
   "id": "83092f64",
   "metadata": {},
   "outputs": [
    {
     "name": "stderr",
     "output_type": "stream",
     "text": [
      "C:\\Users\\monik\\AppData\\Local\\Temp\\ipykernel_16912\\3058238868.py:30: FutureWarning: Setting an item of incompatible dtype is deprecated and will raise an error in a future version of pandas. Value '['31.40565600060867cm' '23.723443878559706cm' '48.6944754257072cm'\n",
      " '47.7445897977863cm' '12.199264419087633cm' '28.255294989080216cm'\n",
      " '49.46319556401813cm' '24.62082473109778cm' '14.069842039264948cm'\n",
      " '30.047591231707173cm' '39.596908878071915cm' '47.903273405497885cm'\n",
      " '18.383678364591226cm' '20.573119172482315cm' '26.918929348570554cm'\n",
      " '49.60956000856316cm' '42.872544601068384cm' '47.28354972175643cm' nan\n",
      " nan '36.95711914375434cm' nan '25.124837252276944cm'\n",
      " '41.69467488795425cm' '28.67398840853555cm' '31.546329651552767cm'\n",
      " '14.629781437963878cm' '10.509502547356245cm' '18.213990989134608cm'\n",
      " '24.690622519316705cm' '23.881006122675878cm' '16.30134384410546cm' nan\n",
      " '29.66207244015815cm' nan '45.91010976816148cm' nan\n",
      " '31.599083317303908cm' '25.60501244185592cm' '43.06120649429532cm' nan\n",
      " '12.847775069640711cm' '12.664116985961948cm' '47.658679896221cm'\n",
      " '33.2449203552472cm' '39.08764020242252cm' '28.33330050691903cm'\n",
      " '22.962576174780793cm' '27.894375469792145cm' '32.038131009330215cm'\n",
      " '14.575393291450958cm' nan nan '11.712756967808463cm' nan\n",
      " '43.763098510017656cm' nan '30.811616852539903cm' '37.395658619063596cm'\n",
      " '28.1338454756111cm' '27.96849795184873cm' '10.60064593668383cm'\n",
      " '24.62269124743047cm' nan '35.59967475048515cm' '10.62981749252967cm'\n",
      " '29.56236762958236cm' '24.02157279243951cm' '20.724977212451382cm'\n",
      " '45.97566419756147cm' '39.53174948578872cm' '40.18091625619654cm'\n",
      " '31.792529976304664cm' '45.01839317252149cm' '38.4030089783188cm']' has dtype incompatible with float64, please explicitly cast to a compatible dtype first.\n",
      "  df_untidy.loc[df_untidy.sample(frac=0.15, random_state=1).index, 'Height_cm'] = \\\n",
      "C:\\Users\\monik\\AppData\\Local\\Temp\\ipykernel_16912\\3058238868.py:33: FutureWarning: Setting an item of incompatible dtype is deprecated and will raise an error in a future version of pandas. Value '['Rating: 3.0' 'Rating: 5.0' 'Rating: 2.0' 'Rating: 3.0' 'Rating: 1.0' nan\n",
      " 'Rating: 5.0' 'Rating: 3.0' 'Rating: 2.0' 'Rating: 2.0' 'Rating: 4.0'\n",
      " 'Rating: 3.0' 'Rating: 1.0' 'Rating: 3.0' nan 'Rating: 1.0' 'Rating: 1.0'\n",
      " 'Rating: 2.0' 'Rating: 2.0' 'Rating: 4.0' 'Rating: 5.0' 'Rating: 4.0'\n",
      " 'Rating: 4.0' 'Rating: 4.0' 'Rating: 3.0' 'Rating: 5.0' 'Rating: 2.0' nan\n",
      " 'Rating: 3.0' 'Rating: 2.0' 'Rating: 3.0' 'Rating: 4.0' nan 'Rating: 4.0'\n",
      " 'Rating: 1.0' 'Rating: 5.0' nan 'Rating: 3.0' 'Rating: 3.0' 'Rating: 3.0'\n",
      " 'Rating: 4.0' 'Rating: 2.0' 'Rating: 1.0' 'Rating: 4.0' nan 'Rating: 5.0'\n",
      " 'Rating: 4.0' 'Rating: 1.0' 'Rating: 4.0' 'Rating: 3.0' 'Rating: 2.0'\n",
      " 'Rating: 5.0' 'Rating: 3.0' 'Rating: 3.0' 'Rating: 2.0' 'Rating: 3.0' nan\n",
      " 'Rating: 1.0' 'Rating: 5.0' 'Rating: 2.0' 'Rating: 1.0' 'Rating: 2.0' nan\n",
      " 'Rating: 4.0' 'Rating: 4.0' 'Rating: 1.0' 'Rating: 1.0' 'Rating: 4.0'\n",
      " 'Rating: 3.0' 'Rating: 5.0' 'Rating: 1.0' nan nan nan 'Rating: 5.0']' has dtype incompatible with float64, please explicitly cast to a compatible dtype first.\n",
      "  df_untidy.loc[df_untidy.sample(frac=0.15, random_state=2).index, 'Rating'] = \\\n"
     ]
    },
    {
     "data": {
      "text/html": [
       "<div>\n",
       "<style scoped>\n",
       "    .dataframe tbody tr th:only-of-type {\n",
       "        vertical-align: middle;\n",
       "    }\n",
       "\n",
       "    .dataframe tbody tr th {\n",
       "        vertical-align: top;\n",
       "    }\n",
       "\n",
       "    .dataframe thead th {\n",
       "        text-align: right;\n",
       "    }\n",
       "</style>\n",
       "<table border=\"1\" class=\"dataframe\">\n",
       "  <thead>\n",
       "    <tr style=\"text-align: right;\">\n",
       "      <th></th>\n",
       "      <th>Score</th>\n",
       "      <th>Height_cm</th>\n",
       "      <th>Rating</th>\n",
       "      <th>Fruit</th>\n",
       "      <th>Group</th>\n",
       "      <th>IsActive</th>\n",
       "    </tr>\n",
       "  </thead>\n",
       "  <tbody>\n",
       "    <tr>\n",
       "      <th>0</th>\n",
       "      <td>-1.085631</td>\n",
       "      <td>NaN</td>\n",
       "      <td>2.0</td>\n",
       "      <td>banana</td>\n",
       "      <td>D</td>\n",
       "      <td>Yes</td>\n",
       "    </tr>\n",
       "    <tr>\n",
       "      <th>1</th>\n",
       "      <td>0.997345</td>\n",
       "      <td>16.480034</td>\n",
       "      <td>Rating: 5.0</td>\n",
       "      <td>apple</td>\n",
       "      <td>A</td>\n",
       "      <td>No</td>\n",
       "    </tr>\n",
       "    <tr>\n",
       "      <th>2</th>\n",
       "      <td>0.282978</td>\n",
       "      <td>49.244711</td>\n",
       "      <td>NaN</td>\n",
       "      <td>banana</td>\n",
       "      <td>B</td>\n",
       "      <td>No</td>\n",
       "    </tr>\n",
       "    <tr>\n",
       "      <th>3</th>\n",
       "      <td>-1.506295</td>\n",
       "      <td>NaN</td>\n",
       "      <td>3.0</td>\n",
       "      <td>grape</td>\n",
       "      <td>D</td>\n",
       "      <td>nan</td>\n",
       "    </tr>\n",
       "    <tr>\n",
       "      <th>4</th>\n",
       "      <td>-0.578600</td>\n",
       "      <td>31.599083317303908cm</td>\n",
       "      <td>NaN</td>\n",
       "      <td>banana</td>\n",
       "      <td>C</td>\n",
       "      <td>No</td>\n",
       "    </tr>\n",
       "  </tbody>\n",
       "</table>\n",
       "</div>"
      ],
      "text/plain": [
       "      Score             Height_cm       Rating   Fruit Group IsActive\n",
       "0 -1.085631                   NaN          2.0  banana     D      Yes\n",
       "1  0.997345             16.480034  Rating: 5.0   apple     A       No\n",
       "2  0.282978             49.244711          NaN  banana     B       No\n",
       "3 -1.506295                   NaN          3.0   grape     D      nan\n",
       "4 -0.578600  31.599083317303908cm          NaN  banana     C       No"
      ]
     },
     "execution_count": 1,
     "metadata": {},
     "output_type": "execute_result"
    }
   ],
   "source": [
    "import pandas as pd\n",
    "import numpy as np\n",
    "np.random.seed(123)\n",
    "num1 = np.random.randn(500)\n",
    "num2 = np.random.uniform(10, 50, size=500)\n",
    "num3 = np.random.randint(1, 6, size=500).astype('float')\n",
    "num1[np.random.choice(500, 60, replace=False)] = np.nan\n",
    "num2[np.random.choice(500, 60, replace=False)] = np.nan\n",
    "num3[np.random.choice(500, 60, replace=False)] = np.nan\n",
    "cat1 = np.random.choice(['apple', 'banana', 'grape', np.nan], size=500, p=[0.3, 0.3, 0.3, 0.1])\n",
    "cat2 = np.random.choice(['A', 'B', 'C', 'D'], size=500)\n",
    "cat3 = np.random.choice(['Yes', 'No', np.nan], size=500, p=[0.45, 0.45, 0.10])\n",
    "df_untidy = pd.DataFrame({\n",
    "    'Score': num1,\n",
    "    'Height_cm': num2,\n",
    "    'Rating': num3,\n",
    "    'Fruit': cat1,\n",
    "    'Group': cat2,\n",
    "    'IsActive': cat3\n",
    "})\n",
    "df_untidy.loc[df_untidy.sample(frac=0.15, random_state=1).index, 'Height_cm'] = \\\n",
    "    df_untidy['Height_cm'].dropna().astype(str) + 'cm'   # Mix data type in Height_cm\n",
    "\n",
    "df_untidy.loc[df_untidy.sample(frac=0.15, random_state=2).index, 'Rating'] = \\\n",
    "    'Rating: ' + df_untidy['Rating'].dropna().astype(str) # Prefix string for some ratings\n",
    "\n",
    "df_untidy.head()\n"
   ]
  },
  {
   "cell_type": "markdown",
   "id": "6c48871f",
   "metadata": {},
   "source": [
    "- Q1. Identify columns with missing values and demonstrate at least two methods for imputing or filling these missing values (e.g., mean for numerics, mode for categoricals)."
   ]
  },
  {
   "cell_type": "code",
   "execution_count": null,
   "id": "24181f2c",
   "metadata": {},
   "outputs": [
    {
     "name": "stdout",
     "output_type": "stream",
     "text": [
      "Missing values per column:\n",
      " PassengerId      0\n",
      "Survived         0\n",
      "Pclass           0\n",
      "Name             0\n",
      "Sex              0\n",
      "Age            177\n",
      "SibSp            0\n",
      "Parch            0\n",
      "Ticket           0\n",
      "Fare             0\n",
      "Cabin          687\n",
      "Embarked         2\n",
      "dtype: int64\n",
      "\n",
      "After imputation (mean + mode):\n",
      " PassengerId    0\n",
      "Survived       0\n",
      "Pclass         0\n",
      "Name           0\n",
      "Sex            0\n",
      "Age            0\n",
      "SibSp          0\n",
      "Parch          0\n",
      "Ticket         0\n",
      "Fare           0\n",
      "Cabin          0\n",
      "Embarked       0\n",
      "dtype: int64\n"
     ]
    }
   ],
   "source": [
    "import pandas as pd\n",
    "url = \"https://raw.githubusercontent.com/springboardmentor943x/ImpactSense-Intern-project/refs/heads/main/Milestone_1/Week_2/Day_8/Assignment_2.ipynb\"\n",
    "df = pd.read_csv(\"https://raw.githubusercontent.com/datasciencedojo/datasets/master/titanic.csv\")\n",
    "print(\"Missing values per column:\\n\", df.isnull().sum())\n",
    "df_mean_imputed = df.fillna(df.mean(numeric_only=True))\n",
    "for col in df.select_dtypes(include=['object']).columns:\n",
    "    df_mean_imputed[col] = df_mean_imputed[col].fillna(df[col].mode()[0])\n",
    "print(\"\\nAfter imputation (mean + mode):\\n\", df_mean_imputed.isnull().sum())\n"
   ]
  },
  {
   "cell_type": "markdown",
   "id": "2cca2d9b",
   "metadata": {},
   "source": [
    "- Q2.  Identify columns with non-numeric (categorical) data and convert them into a numeric format using encoding techniques such as one-hot encoding or label encoding."
   ]
  },
  {
   "cell_type": "code",
   "execution_count": null,
   "id": "710a8c72",
   "metadata": {},
   "outputs": [
    {
     "name": "stdout",
     "output_type": "stream",
     "text": [
      "Categorical columns: ['Name', 'Sex', 'Ticket', 'Cabin', 'Embarked']\n",
      "\n",
      "After Label Encoding:\n",
      "    PassengerId  Survived  Pclass  Name  Sex   Age  SibSp  Parch  Ticket  \\\n",
      "0            1         0       3   108    1  22.0      1      0     523   \n",
      "1            2         1       1   190    0  38.0      1      0     596   \n",
      "2            3         1       3   353    0  26.0      0      0     669   \n",
      "3            4         1       1   272    0  35.0      1      0      49   \n",
      "4            5         0       3    15    1  35.0      0      0     472   \n",
      "\n",
      "      Fare  Cabin  Embarked  \n",
      "0   7.2500    147         2  \n",
      "1  71.2833     81         0  \n",
      "2   7.9250    147         2  \n",
      "3  53.1000     55         2  \n",
      "4   8.0500    147         2  \n",
      "\n",
      "After One-Hot Encoding:\n",
      "    PassengerId  Survived  Pclass   Age  SibSp  Parch     Fare  \\\n",
      "0            1         0       3  22.0      1      0   7.2500   \n",
      "1            2         1       1  38.0      1      0  71.2833   \n",
      "2            3         1       3  26.0      0      0   7.9250   \n",
      "3            4         1       1  35.0      1      0  53.1000   \n",
      "4            5         0       3  35.0      0      0   8.0500   \n",
      "\n",
      "   Name_Abbott, Mr. Rossmore Edward  Name_Abbott, Mrs. Stanton (Rosa Hunt)  \\\n",
      "0                             False                                  False   \n",
      "1                             False                                  False   \n",
      "2                             False                                  False   \n",
      "3                             False                                  False   \n",
      "4                             False                                  False   \n",
      "\n",
      "   Name_Abelson, Mr. Samuel  ...  Cabin_F G63  Cabin_F G73  Cabin_F2  \\\n",
      "0                     False  ...        False        False     False   \n",
      "1                     False  ...        False        False     False   \n",
      "2                     False  ...        False        False     False   \n",
      "3                     False  ...        False        False     False   \n",
      "4                     False  ...        False        False     False   \n",
      "\n",
      "   Cabin_F33  Cabin_F38  Cabin_F4  Cabin_G6  Cabin_T  Embarked_Q  Embarked_S  \n",
      "0      False      False     False     False    False       False        True  \n",
      "1      False      False     False     False    False       False       False  \n",
      "2      False      False     False     False    False       False        True  \n",
      "3      False      False     False     False    False       False        True  \n",
      "4      False      False     False     False    False       False        True  \n",
      "\n",
      "[5 rows x 1726 columns]\n"
     ]
    }
   ],
   "source": [
    "import pandas as pd\n",
    "from sklearn.preprocessing import LabelEncoder\n",
    "df = pd.read_csv(\"https://raw.githubusercontent.com/datasciencedojo/datasets/master/titanic.csv\")\n",
    "categorical_cols = df.select_dtypes(include=['object']).columns\n",
    "print(\"Categorical columns:\", categorical_cols.tolist())\n",
    "label_encoder = LabelEncoder()\n",
    "df_label_encoded = df.copy()\n",
    "for col in categorical_cols:\n",
    "    df_label_encoded[col] = label_encoder.fit_transform(df[col].astype(str))\n",
    "\n",
    "print(\"\\nAfter Label Encoding:\\n\", df_label_encoded.head())\n",
    "df_onehot_encoded = pd.get_dummies(df, columns=categorical_cols, drop_first=True)\n",
    "\n",
    "print(\"\\nAfter One-Hot Encoding:\\n\", df_onehot_encoded.head())\n"
   ]
  },
  {
   "cell_type": "markdown",
   "id": "712a6d0e",
   "metadata": {},
   "source": [
    "- Q3. Detect any columns in the DataFrame that contain mixed data types (such as numbers stored as strings or strings with prefixes). Write code to clean and convert these columns to appropriate, consistent types."
   ]
  },
  {
   "cell_type": "code",
   "execution_count": null,
   "id": "d5f4ce74",
   "metadata": {},
   "outputs": [
    {
     "name": "stdout",
     "output_type": "stream",
     "text": [
      "Original DataFrame:\n",
      "         Age           Fare  Gender\n",
      "0        25          100.5    Male\n",
      "1        30          200.0  Female\n",
      "2        40            150    Male\n",
      "3  35 years  not available  Female\n",
      "4      None         175.25    Male\n",
      "\n",
      "Columns with mixed data types: ['Age']\n",
      "\n",
      "Cleaned DataFrame:\n",
      " Age       float64\n",
      "Fare      float64\n",
      "Gender     object\n",
      "dtype: object\n",
      "    Age    Fare  Gender\n",
      "0  25.0  100.50    Male\n",
      "1  30.0  200.00  Female\n",
      "2  40.0  150.00    Male\n",
      "3  35.0     NaN  Female\n",
      "4   NaN  175.25    Male\n"
     ]
    }
   ],
   "source": [
    "import pandas as pd\n",
    "\n",
    "df = pd.DataFrame({\n",
    "    \"Age\": [\"25\", \"30\", \"40\", \"35 years\", None],\n",
    "    \"Fare\": [\"100.5\", \"200.0\", \"150\", \"not available\", \"175.25\"],\n",
    "    \"Gender\": [\"Male\", \"Female\", \"Male\", \"Female\", \"Male\"]\n",
    "})\n",
    "\n",
    "print(\"Original DataFrame:\\n\", df)\n",
    "mixed_cols = [col for col in df.columns if df[col].apply(type).nunique() > 1]\n",
    "print(\"\\nColumns with mixed data types:\", mixed_cols)\n",
    "\n",
    "df[\"Age\"] = df[\"Age\"].str.extract(r'(\\d+)')  \n",
    "df[\"Age\"] = pd.to_numeric(df[\"Age\"], errors=\"coerce\")\n",
    "\n",
    "df[\"Fare\"] = pd.to_numeric(df[\"Fare\"], errors=\"coerce\")\n",
    "\n",
    "print(\"\\nCleaned DataFrame:\\n\", df.dtypes)\n",
    "print(df.head())\n"
   ]
  },
  {
   "cell_type": "markdown",
   "id": "2018da67",
   "metadata": {},
   "source": [
    "- Q4. Apply scaling and/or normalization techniques (such as Min-Max Scaling and Standardization) to the numerical columns to prepare them for downstream machine learning tasks."
   ]
  },
  {
   "cell_type": "code",
   "execution_count": null,
   "id": "72d4a1cb",
   "metadata": {},
   "outputs": [
    {
     "name": "stdout",
     "output_type": "stream",
     "text": [
      "Original DataFrame:\n",
      "    Age   Fare  Pclass\n",
      "0   22   7.25       3\n",
      "1   38  71.83       1\n",
      "2   26   7.92       3\n",
      "3   35  53.10       1\n",
      "4   28   8.05       3\n",
      "\n",
      "Numeric columns: ['Age', 'Fare', 'Pclass']\n",
      "\n",
      "After Min-Max Scaling:\n",
      "       Age      Fare  Pclass\n",
      "0  0.0000  0.000000     1.0\n",
      "1  1.0000  1.000000     0.0\n",
      "2  0.2500  0.010375     1.0\n",
      "3  0.8125  0.709972     0.0\n",
      "4  0.3750  0.012388     1.0\n",
      "\n",
      "After Standardization:\n",
      "         Age      Fare    Pclass\n",
      "0 -1.326807 -0.815078  0.816497\n",
      "1  1.394848  1.536922 -1.224745\n",
      "2 -0.646393 -0.790677  0.816497\n",
      "3  0.884538  0.854776 -1.224745\n",
      "4 -0.306186 -0.785943  0.816497\n"
     ]
    }
   ],
   "source": [
    "import pandas as pd\n",
    "from sklearn.preprocessing import MinMaxScaler, StandardScaler\n",
    "\n",
    "df = pd.DataFrame({\n",
    "    \"Age\": [22, 38, 26, 35, 28],\n",
    "    \"Fare\": [7.25, 71.83, 7.92, 53.10, 8.05],\n",
    "    \"Pclass\": [3, 1, 3, 1, 3]\n",
    "})\n",
    "\n",
    "print(\"Original DataFrame:\\n\", df)\n",
    "\n",
    "numeric_cols = df.select_dtypes(include=['int64', 'float64']).columns\n",
    "print(\"\\nNumeric columns:\", numeric_cols.tolist())\n",
    "\n",
    "minmax_scaler = MinMaxScaler()\n",
    "df_minmax = df.copy()\n",
    "df_minmax[numeric_cols] = minmax_scaler.fit_transform(df[numeric_cols])\n",
    "\n",
    "print(\"\\nAfter Min-Max Scaling:\\n\", df_minmax)\n",
    "\n",
    "standard_scaler = StandardScaler()\n",
    "df_standard = df.copy()\n",
    "df_standard[numeric_cols] = standard_scaler.fit_transform(df[numeric_cols])\n",
    "\n",
    "print(\"\\nAfter Standardization:\\n\", df_standard)\n"
   ]
  },
  {
   "cell_type": "markdown",
   "id": "8f55d1a5",
   "metadata": {},
   "source": [
    "- Q5. Write a function to check for and report any remaining inconsistencies (missing values, mixed types, out-of-range values) in the cleaned DataFrame. Validate that the preprocessing steps have successfully prepared the data for analysis."
   ]
  },
  {
   "cell_type": "markdown",
   "id": "128fbd47",
   "metadata": {},
   "source": []
  },
  {
   "cell_type": "code",
   "execution_count": null,
   "id": "d3ce892b",
   "metadata": {},
   "outputs": [
    {
     "name": "stdout",
     "output_type": "stream",
     "text": [
      "⚠️ Issues found in DataFrame:\n",
      "{'missing_values': {'Age': 1}, 'mixed_type_columns': ['Name'], 'out_of_range': {'Age': 2, 'Fare': 1, 'Pclass': 1}}\n"
     ]
    },
    {
     "data": {
      "text/plain": [
       "{'missing_values': {'Age': 1},\n",
       " 'mixed_type_columns': ['Name'],\n",
       " 'out_of_range': {'Age': 2, 'Fare': 1, 'Pclass': 1}}"
      ]
     },
     "execution_count": 10,
     "metadata": {},
     "output_type": "execute_result"
    }
   ],
   "source": [
    "import pandas as pd\n",
    "\n",
    "def validate_dataframe(df):\n",
    "    report = {}\n",
    "\n",
    "    missing = df.isnull().sum()\n",
    "    report['missing_values'] = missing[missing > 0].to_dict()\n",
    "\n",
    "    mixed_types = [col for col in df.columns if df[col].apply(type).nunique() > 1]\n",
    "    report['mixed_type_columns'] = mixed_types\n",
    "\n",
    "    out_of_range = {}\n",
    "    if \"Age\" in df.columns:\n",
    "        out_of_range['Age'] = df[(df['Age'] < 0) | (df['Age'] > 120)].shape[0] \n",
    "    if \"Fare\" in df.columns:\n",
    "        out_of_range['Fare'] = df[df['Fare'] < 0].shape[0]  \n",
    "    if \"Pclass\" in df.columns:\n",
    "        out_of_range['Pclass'] = df[~df['Pclass'].isin([1,2,3])].shape[0]  \n",
    "\n",
    "    report['out_of_range'] = {k: v for k, v in out_of_range.items() if v > 0}\n",
    "\n",
    "    \n",
    "    if not report['missing_values'] and not report['mixed_type_columns'] and not report['out_of_range']:\n",
    "        print(\"✅ DataFrame is clean and ready for analysis.\")\n",
    "    else:\n",
    "        print(\"⚠️ Issues found in DataFrame:\")\n",
    "        print(report)\n",
    "\n",
    "    return report\n",
    "\n",
    "df = pd.DataFrame({\n",
    "    \"Age\": [22, 38, None, -5, 200],    \n",
    "    \"Fare\": [7.25, 71.83, -10, 53.10, 8.05],  \n",
    "    \"Pclass\": [3, 1, 4, 2, 3],         \n",
    "    \"Name\": [\"John\", \"Alice\", 123, \"Bob\", \"Charlie\"]  \n",
    "})\n",
    "\n",
    "validate_dataframe(df)\n"
   ]
  }
 ],
 "metadata": {
  "kernelspec": {
   "display_name": "Python 3",
   "language": "python",
   "name": "python3"
  },
  "language_info": {
   "codemirror_mode": {
    "name": "ipython",
    "version": 3
   },
   "file_extension": ".py",
   "mimetype": "text/x-python",
   "name": "python",
   "nbconvert_exporter": "python",
   "pygments_lexer": "ipython3",
   "version": "3.12.6"
  }
 },
 "nbformat": 4,
 "nbformat_minor": 5
}
